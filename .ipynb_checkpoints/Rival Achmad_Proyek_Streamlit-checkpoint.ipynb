{
 "cells": [
  {
   "cell_type": "markdown",
   "metadata": {
    "id": "H9wADwK78DCz"
   },
   "source": [
    "# UAS Project Streamlit: \n",
    "- **Nama:** Rival Achmad Firdaus\n",
    "- **Dataset:** Dataset diambil dari Stack Overflow Developer Survey 2020. Stack Overflow Developer Survey adalah survei tahunan yang diadakan oleh platform komunitas Stack Overflow untuk mengumpulkan data tentang komunitas pengembang perangkat lunak. Survei ini memberikan wawasan mendalam tentang tren, preferensi bahasa pemrograman, pengalaman, dan aspek lainnya dalam komunitas pengembangan perangkat lunak secara global. Link data set: https://info.stackoverflowsolutions.com/rs/719-EMH-566/images/stack-overflow-developer-survey-2020.zip\n",
    "- **URL Website:** [Di isi jika web streamlit di upload]\n",
    "\n"
   ]
  },
  {
   "cell_type": "markdown",
   "metadata": {
    "id": "eE0raob58DC0"
   },
   "source": [
    "## Menentukan Pertanyaan Bisnis"
   ]
  },
  {
   "cell_type": "markdown",
   "metadata": {
    "id": "GmQeQ5YF8DC0"
   },
   "source": [
    "- Pertanyaan 1:\n",
    "Bagaimana distribusi gaji per tahun software developer secara global di tahun 2023?\n",
    "- Pertanyaan 2:\n",
    "Bagaimana faktor-faktor seperti pengalaman, tingkat pendidikan, jenis developer, dan negara berpengaruh terhadap gaji software developer?"
   ]
  },
  {
   "cell_type": "markdown",
   "metadata": {
    "id": "H-z4QGlO8DC1"
   },
   "source": [
    "## Import Semua Packages/Library yang Digunakan"
   ]
  },
  {
   "cell_type": "markdown",
   "metadata": {
    "id": "FVYwaObI8DC1"
   },
   "source": [
    "import pandas as pd\\\n",
    "import matplotlib.pyplot as plt\\\n",
    "import numpy as np\\\n",
    "import pickle\\\n",
    "from sklearn.preprocessing import LabelEncoder\\\n",
    "from sklearn.linear_model import LinearRegression\\\n",
    "from sklearn.metrics import mean_squared_error, mean_absolute_error\\\n",
    "from sklearn.tree import DecisionTreeRegressor\\\n",
    "from sklearn.ensemble import RandomForestRegressor\\\n",
    "from sklearn.ensemble import GradientBoostingRegressor"
   ]
  },
  {
   "cell_type": "markdown",
   "metadata": {
    "id": "h_Sh51Xy8DC1"
   },
   "source": [
    "## Data Wrangling"
   ]
  },
  {
   "cell_type": "markdown",
   "metadata": {
    "id": "sXU2GBYu8DC1"
   },
   "source": [
    "### Gathering Data"
   ]
  },
  {
   "cell_type": "markdown",
   "metadata": {
    "id": "zjCBk1BI8DC1"
   },
   "source": [
    "- Mengimpor library yang diperlukan.\n",
    "- Membaca dataset dari file CSV."
   ]
  },
  {
   "cell_type": "markdown",
   "metadata": {
    "id": "FHSiqaZp8DC1"
   },
   "source": [
    "### Assessing Data"
   ]
  },
  {
   "cell_type": "markdown",
   "metadata": {
    "id": "ax-3tEjc9Cj1"
   },
   "source": [
    "- Melihat beberapa baris pertama dataset menggunakan df.head().\n",
    "- Memilih kolom-kolom yang relevan untuk analisis.\n",
    "- Memberikan nama baru pada kolom 'ConvertedComp' menjadi 'Salary'.\n",
    "- Menghilangkan baris dengan nilai gaji (Salary) yang kosong.\n",
    "- Melakukan pemeriksaan informasi dataset menggunakan df.info()."
   ]
  },
  {
   "cell_type": "markdown",
   "metadata": {
    "id": "EhN5R4hr8DC1"
   },
   "source": [
    "### Cleaning Data"
   ]
  },
  {
   "cell_type": "markdown",
   "metadata": {
    "id": "jVnYpprE9Evz"
   },
   "source": [
    "- Menghapus baris dengan nilai yang kosong.\n",
    "- Menyesuaikan kategorisasi negara dengan fungsi shorten_categories.\n",
    "- Mengubah nilai-nilai 'YearsCodePro' yang berupa string menjadi format numerik.\n",
    "- Mengubah tingkat pendidikan ('EdLevel') menjadi kategori yang lebih umum.\n",
    "- Menggunakan LabelEncoder untuk mengubah variabel kategori menjadi numerik."
   ]
  },
  {
   "cell_type": "markdown",
   "metadata": {
    "id": "gp-Y6wU38DC1"
   },
   "source": [
    "## Exploratory Data Analysis (EDA)"
   ]
  },
  {
   "cell_type": "markdown",
   "metadata": {
    "id": "MW7WF2kr8DC1"
   },
   "source": [
    "### Explore ..."
   ]
  },
  {
   "cell_type": "code",
   "execution_count": null,
   "metadata": {
    "id": "e9CQCZjk8DC2"
   },
   "outputs": [],
   "source": []
  },
  {
   "cell_type": "markdown",
   "metadata": {
    "id": "zsyZjqak8DC2"
   },
   "source": [
    "## Visualization & Explanatory Analysis"
   ]
  },
  {
   "cell_type": "markdown",
   "metadata": {
    "id": "HZxOiQ6n8DC2"
   },
   "source": [
    "### Pertanyaan 1:"
   ]
  },
  {
   "cell_type": "markdown",
   "metadata": {
    "id": "1swJUdAD8DC2"
   },
   "source": [
    "- Menampilkan boxplot untuk visualisasi distribusi gaji per tahun berdasarkan negara\\\n",
    "fig, ax = plt.subplots(1, 1, figsize=(12, 7))\\\n",
    "df.boxplot('Salary', 'Country', ax=ax)\\\n",
    "plt.suptitle('Salary (US$) v Country')\\\n",
    "plt.title('')\\\n",
    "plt.ylabel('Salary')\\\n",
    "plt.xticks(rotation=90)\\\n",
    "plt.show()\\\n",
    "\\\n",
    "Dapat disimpulkan bahwa gaji pertahun software developer tertinggi berada di Amerika Serikat"
   ]
  },
  {
   "cell_type": "markdown",
   "metadata": {
    "id": "DgHI7CiU8DC2"
   },
   "source": [
    "### Pertanyaan 2:"
   ]
  },
  {
   "cell_type": "markdown",
   "metadata": {
    "id": "Go0lCsvO8DC2"
   },
   "source": [
    "- Menampilkan plot untuk visualisasi hubungan antara pengalaman, tingkat pendidikan, dan gaji\\\n",
    "\\\n",
    "Scatterplot pengalaman vs gaji\\\n",
    "plt.figure(figsize=(10, 6))\\\n",
    "plt.scatter(df['YearsCodePro'], df['Salary'], alpha=0.5)\\\n",
    "plt.title('YearsCodePro vs Salary')\\\n",
    "plt.xlabel('YearsCodePro')\\\n",
    "plt.ylabel('Salary')\\\n",
    "plt.show()\\\n",
    "\\\n",
    "Dapat disimpulkan bahwa semakin lama pengalaman developer maka semakin tinggi pula gajinya\\\n",
    "\\\n",
    "Boxplot tingkat pendidikan vs gaji\\\n",
    "fig, ax = plt.subplots(1,1, figsize=(12, 7))\\\n",
    "df.boxplot('Salary', 'EdLevel', ax=ax)\\\n",
    "plt.title('Salary (US$) v Edlevel')\\\n",
    "plt.ylabel('Salary')\\\n",
    "plt.xticks(rotation=90)\\\n",
    "plt.show()\\\n",
    "\\\n",
    "Dapat disimpulkan bahwa tingkat pendidikan dengan gaji tertinggi adalah sarjana"
   ]
  },
  {
   "cell_type": "markdown",
   "metadata": {},
   "source": [
    "## Membuat Model "
   ]
  },
  {
   "cell_type": "markdown",
   "metadata": {},
   "source": [
    "Membuat dan melatih beberapa model seperti Linear Regression, Decision Tree, Random Forest, dan GridSearchCV."
   ]
  },
  {
   "cell_type": "markdown",
   "metadata": {},
   "source": [
    "### Training Model"
   ]
  },
  {
   "cell_type": "markdown",
   "metadata": {},
   "source": [
    "- Training menggunakan Linear Regression\\\n",
    "from sklearn.linear_model import LinearRegression\\\n",
    "linear_reg = LinearRegression()\\\n",
    "linear_reg.fit(X, y.values)\n",
    "- Training menggunakan Decision Tree\\\n",
    "from sklearn.tree import DecisionTreeRegressor\\\n",
    "dec_tree_reg = DecisionTreeRegressor(random_state=0)\\\n",
    "dec_tree_reg.fit(X, y.values)\n",
    "- Training menggunakan Random Forest\\\n",
    "from sklearn.ensemble import RandomForestRegressor\\\n",
    "random_forest_reg = RandomForestRegressor(random_state=0)\\\n",
    "random_forest_reg.fit(X, y.values)\n",
    "- Training menggunakan GridSearchCV\\\n",
    "from sklearn.model_selection import GridSearchCV\\\n",
    "max_depth = [None, 2,4,6,8,10,12]\\\n",
    "parameters = {\"max_depth\": max_depth}\\\n",
    "regressor = DecisionTreeRegressor(random_state=0)\\\n",
    "gs = GridSearchCV(regressor, parameters, scoring='neg_mean_squared_error')\\\n",
    "gs.fit(X, y.values)\\\n",
    "regressor = gs.best_estimator_\\\n",
    "regressor.fit(X, y.values)"
   ]
  },
  {
   "cell_type": "markdown",
   "metadata": {},
   "source": [
    "### Evaluasi Model"
   ]
  },
  {
   "cell_type": "markdown",
   "metadata": {},
   "source": [
    "- Menggunakan metrik evaluasi Root Mean Squared Error (RMSE)\n",
    "- Benchmarking\\\n",
    "Error = Jumlah nilai(Dollar) yang meleset\\\n",
    "Linear Regression error: 39,177.69\\\n",
    "Decision Tree error: 29,414.94\\\n",
    "Random Forest error: 29,487.76\\\n",
    "GridSearchCV error: 30,462.27\\\n",
    "\\\n",
    "Jadi dapat disimpulkan bahwa training model yang paling bagus adalah Decision Tree"
   ]
  },
  {
   "cell_type": "markdown",
   "metadata": {},
   "source": [
    "### Menyimpan Model"
   ]
  },
  {
   "cell_type": "markdown",
   "metadata": {},
   "source": [
    "- Menyimpan model, label encoder, dan langkah-langkah lainnya menggunakan modul pickle\\\n",
    "import pickle\\\n",
    "data = {\"model\": regressor, \"le_country\": le_country, \"le_education\": le_education}\\\n",
    "with open('saved_steps.pkl', 'wb') as file:\\\n",
    "    pickle.dump(data, file)"
   ]
  },
  {
   "cell_type": "markdown",
   "metadata": {
    "id": "_WeHlCeX8DC2"
   },
   "source": [
    "## Conclusion"
   ]
  },
  {
   "cell_type": "markdown",
   "metadata": {
    "id": "ZTcyR48Y8DC2"
   },
   "source": [
    "- Conclution pertanyaan 1\\\n",
    "Distribusi gaji per tahun software developer bervariasi berdasarkan negara, dengan beberapa negara memiliki median gaji yang lebih tinggi daripada yang lain. Negara dengan median gaji tertinggi adalah Amerika Serikat\n",
    "- Conclution pertanyaan 2\\\n",
    "Pengalaman, tingkat pendidikan, dan negara asal mempengaruhi gaji software developer. Negara, khususnya, memiliki peran penting dalam menentukan besarnya gaji. Lebih lanjut, pengalaman dan tingkat pendidikan juga berkontribusi terhadap variasi gaji. Semakin lama pengalaman developer maka semakin tinggi pula gajinya. Tingkat pendidikan dengan gaji tertinggi adalah sarjana"
   ]
  }
 ],
 "metadata": {
  "colab": {
   "provenance": []
  },
  "kernelspec": {
   "display_name": "Python 3 (ipykernel)",
   "language": "python",
   "name": "python3"
  },
  "language_info": {
   "codemirror_mode": {
    "name": "ipython",
    "version": 3
   },
   "file_extension": ".py",
   "mimetype": "text/x-python",
   "name": "python",
   "nbconvert_exporter": "python",
   "pygments_lexer": "ipython3",
   "version": "3.11.5"
  },
  "vscode": {
   "interpreter": {
    "hash": "972b3bf27e332e87b5379f2791f6ef9dfc79c71018c370b0d7423235e20fe4d7"
   }
  }
 },
 "nbformat": 4,
 "nbformat_minor": 1
}
