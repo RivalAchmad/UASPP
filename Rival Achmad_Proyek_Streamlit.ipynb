{
 "cells": [
  {
   "cell_type": "markdown",
   "metadata": {
    "id": "H9wADwK78DCz"
   },
   "source": [
    "# UAS Project Streamlit: \n",
    "- **Nama:** Rival Achmad Firdaus\n",
    "- **Dataset:** Dataset diambil dari Stack Overflow Developer Survey 2023. Stack Overflow Developer Survey adalah survei tahunan yang diadakan oleh platform komunitas Stack Overflow untuk mengumpulkan data tentang komunitas pengembang perangkat lunak. Survei ini memberikan wawasan mendalam tentang tren, preferensi bahasa pemrograman, pengalaman, dan aspek lainnya dalam komunitas pengembangan perangkat lunak secara global. Link data set: https://insights.stackoverflow.com/survey\n",
    "- **URL Website:** [Di isi jika web streamlit di upload]"
   ]
  },
  {
   "cell_type": "markdown",
   "metadata": {
    "id": "eE0raob58DC0"
   },
   "source": [
    "## Menentukan Pertanyaan Bisnis"
   ]
  },
  {
   "cell_type": "markdown",
   "metadata": {
    "id": "GmQeQ5YF8DC0"
   },
   "source": [
    "- Pertanyaan 1:\n",
    "Bagaimana distribusi gaji per tahun software developer secara global di tahun 2023?\n",
    "- Pertanyaan 2:\n",
    "Bagaimana faktor-faktor seperti pengalaman, tingkat pendidikan, jenis developer, dan negara berpengaruh terhadap gaji software developer?"
   ]
  },
  {
   "cell_type": "markdown",
   "metadata": {
    "id": "H-z4QGlO8DC1"
   },
   "source": [
    "## Import Semua Packages/Library yang Digunakan"
   ]
  },
  {
   "cell_type": "markdown",
   "metadata": {
    "id": "FVYwaObI8DC1"
   },
   "source": [
    "import pandas as pd\\\n",
    "import matplotlib.pyplot as plt\\\n",
    "import numpy as np\\\n",
    "import pickle\\\n",
    "from sklearn.preprocessing import LabelEncoder\\\n",
    "from sklearn.linear_model import LinearRegression\\\n",
    "from sklearn.metrics import mean_absolute_error\\\n",
    "from sklearn.tree import DecisionTreeRegressor\\\n",
    "from sklearn.ensemble import RandomForestRegressor\\\n",
    "from sklearn.ensemble import GradientBoostingRegressor"
   ]
  },
  {
   "cell_type": "markdown",
   "metadata": {
    "id": "h_Sh51Xy8DC1"
   },
   "source": [
    "## Data Wrangling"
   ]
  },
  {
   "cell_type": "markdown",
   "metadata": {
    "id": "sXU2GBYu8DC1"
   },
   "source": [
    "### Gathering Data"
   ]
  },
  {
   "cell_type": "markdown",
   "metadata": {
    "id": "zjCBk1BI8DC1"
   },
   "source": [
    "- Mengimpor library yang diperlukan.\n",
    "- Membaca dataset dari file CSV."
   ]
  },
  {
   "cell_type": "markdown",
   "metadata": {
    "id": "FHSiqaZp8DC1"
   },
   "source": [
    "### Assessing Data"
   ]
  },
  {
   "cell_type": "markdown",
   "metadata": {
    "id": "ax-3tEjc9Cj1"
   },
   "source": [
    "- Melihat beberapa baris pertama dataset menggunakan df.head().\n",
    "- Memilih kolom-kolom yang relevan untuk analisis.\n",
    "- Memberikan nama baru pada kolom 'ConvertedComp' menjadi 'Salary'.\n",
    "- Menghilangkan baris dengan nilai gaji (Salary) yang kosong.\n",
    "- Melakukan pemeriksaan informasi dataset menggunakan df.info()."
   ]
  },
  {
   "cell_type": "markdown",
   "metadata": {
    "id": "EhN5R4hr8DC1"
   },
   "source": [
    "### Cleaning Data"
   ]
  },
  {
   "cell_type": "markdown",
   "metadata": {
    "id": "jVnYpprE9Evz"
   },
   "source": [
    "- Menghapus baris dengan nilai yang kosong.\n",
    "- Menyesuaikan kategorisasi negara dengan fungsi shorten_categories.\n",
    "- Mengubah nilai-nilai 'YearsCodePro' yang berupa string menjadi format numerik.\n",
    "- Mengubah tingkat pendidikan ('EdLevel') menjadi kategori yang lebih umum.\n",
    "- Menyesuaikan kategorisasi jenis developer dengan fungsi shorten_categories.\n",
    "- Menggunakan LabelEncoder untuk mengubah variabel kategori menjadi numerik."
   ]
  },
  {
   "cell_type": "markdown",
   "metadata": {
    "id": "gp-Y6wU38DC1"
   },
   "source": [
    "## Exploratory Data Analysis (EDA)"
   ]
  },
  {
   "cell_type": "markdown",
   "metadata": {
    "id": "MW7WF2kr8DC1"
   },
   "source": [
    "### Explore ..."
   ]
  },
  {
   "cell_type": "markdown",
   "metadata": {
    "id": "e9CQCZjk8DC2"
   },
   "source": [
    "Exploratory Data Analysis melibatkan\\\n",
    "Statistik Deskriptif: Menghitung dan merangkum statistik deskriptif seperti mean, median, modus, deviasi standar, dan kuartil\\\n",
    "Visualisasi Data: Membuat plot dan grafik untuk memvisualisasikan distribusi data, hubungan antar variabel, dan pola lainnya. Ini dapat mencakup histogram, scatter plot, box plot, dan grafik lainnya.\\\n",
    "Menangani Data Hilang: Mengidentifikasi dan menangani nilai-nilai yang hilang dalam dataset\\\n",
    "Pemeriksaan Outlier: Mengidentifikasi nilai-nilai ekstrem atau pencilan yang mungkin mempengaruhi analisis\\\n",
    "Transformasi Data: Jika diperlukan, melakukan transformasi data seperti normalisasi atau standarisasi untuk memudahkan analisis atau penggunaan model\\\n",
    "Pemeriksaan Korelasi: Mengevaluasi hubungan antar variabel dan mencari korelasi yang dapat memberikan wawasan tentang bagaimana variabel-variabel saling terkait\\\n",
    "Mengidentifikasi Pola atau Struktur: Menemukan pola, struktur, atau informasi menarik lainnya dalam data"
   ]
  },
  {
   "cell_type": "markdown",
   "metadata": {
    "id": "zsyZjqak8DC2"
   },
   "source": [
    "## Visualization & Explanatory Analysis"
   ]
  },
  {
   "cell_type": "markdown",
   "metadata": {
    "id": "HZxOiQ6n8DC2"
   },
   "source": [
    "### Pertanyaan 1:"
   ]
  },
  {
   "cell_type": "markdown",
   "metadata": {
    "id": "1swJUdAD8DC2"
   },
   "source": [
    "- Menampilkan boxplot untuk visualisasi distribusi gaji per tahun berdasarkan negara\\\n",
    "fig, ax = plt.subplots(1, 1, figsize=(12, 7))\\\n",
    "df.boxplot('Salary', 'Country', ax=ax)\\\n",
    "plt.title('Salary (US$) v Country')\\\n",
    "plt.ylabel('Salary')\\\n",
    "plt.xticks(rotation=90)\\\n",
    "plt.show()\\\n",
    "\\\n",
    "Dapat disimpulkan bahwa nilai median gaji pertahun software developer tertinggi berada di Amerika Serikat"
   ]
  },
  {
   "cell_type": "markdown",
   "metadata": {
    "id": "DgHI7CiU8DC2"
   },
   "source": [
    "### Pertanyaan 2:"
   ]
  },
  {
   "cell_type": "markdown",
   "metadata": {
    "id": "Go0lCsvO8DC2"
   },
   "source": [
    "- Menampilkan plot untuk visualisasi hubungan antara pengalaman, tingkat pendidikan, jenis developer, dan gaji\\\n",
    "\\\n",
    "Scatterplot pengalaman vs gaji\\\n",
    "plt.figure(figsize=(10, 6))\\\n",
    "plt.scatter(df['YearsCodePro'], df['Salary'], alpha=0.5)\\\n",
    "plt.title('YearsCodePro vs Salary')\\\n",
    "plt.xlabel('YearsCodePro')\\\n",
    "plt.ylabel('Salary')\\\n",
    "plt.show()\\\n",
    "\\\n",
    "Secara garis besar gaji developer meningkat sesuai dengan semakin lamanya pengalaman\\\n",
    "\\\n",
    "Boxplot tingkat pendidikan vs gaji\\\n",
    "fig, ax = plt.subplots(1,1, figsize=(12, 7))\\\n",
    "df.boxplot('Salary', 'EdLevel', ax=ax)\\\n",
    "plt.title('Salary v Edlevel')\\\n",
    "plt.ylabel('Salary')\\\n",
    "plt.xticks(rotation=90)\\\n",
    "plt.show()\\\n",
    "\\\n",
    "Dapat disimpulkan bahwa tingkat pendidikan dengan nilai median gaji tertinggi adalah sarjana\\\n",
    "\\\n",
    "fig, ax = plt.subplots(1,1, figsize=(12, 7))\\\n",
    "df.boxplot('Salary', 'DevType', ax=ax)\\\n",
    "plt.title('Salary v DevType')\\\n",
    "plt.ylabel('Salary')\\\n",
    "plt.xticks(rotation=90)\\\n",
    "plt.show()\\\n",
    "\\\n",
    "Dapat disimpulkan bahwa jenis developer dengan nilai median gaji tertinggi adalah Senior Executive (C-Suite, VP, etc.)"
   ]
  },
  {
   "cell_type": "markdown",
   "metadata": {},
   "source": [
    "## Membuat Model "
   ]
  },
  {
   "cell_type": "markdown",
   "metadata": {},
   "source": [
    "Membuat dan melatih beberapa model seperti Linear Regression, Decision Tree, Random Forest, dan Gradient Boosting."
   ]
  },
  {
   "cell_type": "markdown",
   "metadata": {},
   "source": [
    "### Training Model"
   ]
  },
  {
   "cell_type": "markdown",
   "metadata": {},
   "source": [
    "- Training menggunakan Linear Regression\\\n",
    "from sklearn.linear_model import LinearRegression\\\n",
    "linear_reg = LinearRegression()\\\n",
    "linear_reg.fit(X, y.values)\n",
    "- Training menggunakan Decision Tree\\\n",
    "from sklearn.tree import DecisionTreeRegressor\\\n",
    "dec_tree_reg = DecisionTreeRegressor(random_state=0)\\\n",
    "dec_tree_reg.fit(X, y.values)\n",
    "- Training menggunakan Random Forest\\\n",
    "from sklearn.ensemble import RandomForestRegressor\\\n",
    "random_forest_reg = RandomForestRegressor(random_state=0)\\\n",
    "random_forest_reg.fit(X, y.values)\n",
    "- Training menggunakan Gradient Boosting\\\n",
    "from sklearn.ensemble import GradientBoostingRegressor\n",
    "grad_boost_reg = GradientBoostingRegressor(random_state=0)\n",
    "grad_boost_reg.fit(X, y.values)"
   ]
  },
  {
   "cell_type": "markdown",
   "metadata": {},
   "source": [
    "### Evaluasi Model"
   ]
  },
  {
   "cell_type": "markdown",
   "metadata": {},
   "source": [
    "- Menggunakan metrik evaluasi Mean Absolute Error (MAE)\n",
    "Tidak menggunakan akurasi karena variabel target (salary) bersifat kontinu (nilai numerik) bukan kategori.\n",
    "- Benchmarking\\\n",
    "Error = rata-rata nilai(Dollar) yang meleset\\\n",
    "Linear Regression error: 36,315.13\\\n",
    "Decision Tree error: 17,880.92\\\n",
    "Random Forest error: 19,695.64\\\n",
    "Gradient Boosting error: 24,762.60\\\n",
    "\\\n",
    "Jadi dapat disimpulkan bahwa training model yang paling baik adalah Decision Tree"
   ]
  },
  {
   "cell_type": "markdown",
   "metadata": {},
   "source": [
    "### Menyimpan Model"
   ]
  },
  {
   "cell_type": "markdown",
   "metadata": {},
   "source": [
    "- Menyimpan model, label encoder, dan langkah-langkah lainnya menggunakan modul pickle\\\n",
    "import pickle\\\n",
    "data = {\"model\": dec_tree_reg, \"le_country\": le_country, \"le_education\": le_education, \"le_devtype\": le_devtype}\\\n",
    "with open('saved_steps.pkl', 'wb') as file:\\\n",
    "    pickle.dump(data, file)"
   ]
  },
  {
   "cell_type": "markdown",
   "metadata": {
    "id": "_WeHlCeX8DC2"
   },
   "source": [
    "## Conclusion"
   ]
  },
  {
   "cell_type": "markdown",
   "metadata": {
    "id": "ZTcyR48Y8DC2"
   },
   "source": [
    "- Conclution pertanyaan 1\\\n",
    "Distribusi gaji per tahun software developer di tahun 2023 bervariasi berdasarkan negara, dengan beberapa negara memiliki median gaji yang lebih tinggi daripada yang lain. Negara dengan median gaji tertinggi adalah Amerika Serikat.\n",
    "- Conclution pertanyaan 2\\\n",
    "Pengalaman, tingkat pendidikan, jenis developer, dan negara asal mempengaruhi gaji software developer. Negara, khususnya, memiliki peran penting dalam menentukan besarnya gaji. Lebih lanjut, pengalaman, tingkat pendidikan, dan jenis developer juga berkontribusi terhadap variasi gaji. Secara garis besar gaji developer meningkat sesuai dengan semakin lamanya pengalaman. Tingkat pendidikan dengan median gaji tertinggi adalah sarjana. Jenis developer dengan median gaji tertinggi adalah Senior Executive (C-Suite, VP, etc.)."
   ]
  }
 ],
 "metadata": {
  "colab": {
   "provenance": []
  },
  "kernelspec": {
   "display_name": "Python 3 (ipykernel)",
   "language": "python",
   "name": "python3"
  },
  "language_info": {
   "codemirror_mode": {
    "name": "ipython",
    "version": 3
   },
   "file_extension": ".py",
   "mimetype": "text/x-python",
   "name": "python",
   "nbconvert_exporter": "python",
   "pygments_lexer": "ipython3",
   "version": "3.11.5"
  },
  "vscode": {
   "interpreter": {
    "hash": "972b3bf27e332e87b5379f2791f6ef9dfc79c71018c370b0d7423235e20fe4d7"
   }
  }
 },
 "nbformat": 4,
 "nbformat_minor": 1
}
